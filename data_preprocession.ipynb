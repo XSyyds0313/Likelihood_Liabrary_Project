{
 "cells": [
  {
   "cell_type": "code",
   "execution_count": 18,
   "metadata": {
    "collapsed": true,
    "ExecuteTime": {
     "end_time": "2024-06-13T15:02:58.184335500Z",
     "start_time": "2024-06-13T15:02:58.152353Z"
    }
   },
   "outputs": [],
   "source": [
    "import os\n",
    "import datetime\n",
    "from datetime import datetime, timedelta\n",
    "\n",
    "import numpy as np\n",
    "import pandas as pd\n",
    "\n",
    "import _pickle as cPickle\n",
    "import gzip\n",
    "import dask\n",
    "from dask import compute, delayed\n",
    "import functools\n",
    "import warnings\n",
    "warnings.filterwarnings('ignore')"
   ]
  },
  {
   "cell_type": "code",
   "execution_count": 19,
   "outputs": [],
   "source": [
    "# 根目录HEAD_PATH\n",
    "HEAD_PATH = \"order book data\"\n",
    "# 数据保存根目录\n",
    "SAVE_PATH = \"order book data\"\n",
    "# 样本的目录\n",
    "DATA_PATH_1 = HEAD_PATH + \"/order book tick/\"\n",
    "DATA_PATH_2 = HEAD_PATH + \"/order flow tick/\"\n",
    "TMP_DATA_PATH = HEAD_PATH + \"/tmp pkl/\""
   ],
   "metadata": {
    "collapsed": false,
    "ExecuteTime": {
     "end_time": "2024-06-13T15:02:58.185334Z",
     "start_time": "2024-06-13T15:02:58.158839700Z"
    }
   }
  },
  {
   "cell_type": "code",
   "execution_count": 20,
   "outputs": [],
   "source": [
    "def load(path):\n",
    "    with gzip.open(path, 'rb', compresslevel=1) as file_object:\n",
    "        raw_data = file_object.read()\n",
    "    return cPickle.loads(raw_data)\n",
    "\n",
    "def save(data, path):\n",
    "    serialized = cPickle.dumps(data)\n",
    "    with gzip.open(path, 'wb', compresslevel=1) as file_object:\n",
    "        file_object.write(serialized)\n",
    "\n",
    "def parLapply(CORE_NUM, iterable, func, *args, **kwargs):\n",
    "    with dask.config.set(scheduler='processes', num_workers=CORE_NUM):\n",
    "        f_par = functools.partial(func, *args, **kwargs)\n",
    "        result = compute([delayed(f_par)(item) for item in iterable])[0]\n",
    "        return result"
   ],
   "metadata": {
    "collapsed": false,
    "ExecuteTime": {
     "end_time": "2024-06-13T15:02:58.236335700Z",
     "start_time": "2024-06-13T15:02:58.168142800Z"
    }
   }
  },
  {
   "cell_type": "code",
   "execution_count": 21,
   "outputs": [
    {
     "data": {
      "text/plain": "       LastPrice  Volume    Turnover UpdateTime  UpdateMillisec  BidPrice1  \\\n0        70010.0     0.0         0.0   18:39:05             700        0.0   \n1        70200.0    84.0  29484000.0   20:59:00             500    70190.0   \n2        70190.0    25.0   8773650.0   21:00:00             500    70170.0   \n3        70170.0    77.0  27016350.0   21:00:01               0    70150.0   \n4        70190.0    31.0  10876500.0   21:00:01             500    70170.0   \n...          ...     ...         ...        ...             ...        ...   \n85813    70130.0     0.0         0.0   14:59:58             500    70110.0   \n85814    70130.0     0.0         0.0   14:59:59               0    70110.0   \n85815    70130.0     0.0         0.0   14:59:59             500    70110.0   \n85816    70110.0     1.0    350550.0   15:00:00               0    70110.0   \n85817    70110.0     0.0         0.0   15:00:00             500    70110.0   \n\n       BidVolume1  AskPrice1  AskVolume1  BidPrice2  ...  AskVolume3  \\\n0               0        0.0         0.0        0.0  ...         0.0   \n1               4    70200.0        98.0    70180.0  ...         2.0   \n2               5    70190.0        17.0    70160.0  ...         5.0   \n3              30    70170.0         7.0    70140.0  ...       108.0   \n4               4    70190.0        14.0    70160.0  ...         8.0   \n...           ...        ...         ...        ...  ...         ...   \n85813           5    70130.0        24.0    70100.0  ...         6.0   \n85814           5    70120.0         1.0    70100.0  ...        19.0   \n85815           5    70120.0         8.0    70100.0  ...        19.0   \n85816           5    70120.0         8.0    70100.0  ...        19.0   \n85817           5    70120.0         8.0    70100.0  ...        19.0   \n\n       BidPrice4  BidVolume4  AskPrice4  AskVolume4  BidPrice5  BidVolume5  \\\n0            0.0           0        0.0         0.0        0.0           0   \n1        70160.0           4    70240.0         2.0    70150.0          31   \n2        70140.0           2    70220.0        16.0    70120.0          12   \n3        70120.0          14    70210.0         6.0    70110.0          31   \n4        70140.0           4    70220.0        23.0    70130.0           2   \n...          ...         ...        ...         ...        ...         ...   \n85813    70080.0           4    70160.0         5.0    70070.0           1   \n85814    70080.0           4    70150.0         6.0    70070.0           1   \n85815    70080.0           4    70150.0         6.0    70070.0           1   \n85816    70080.0           4    70150.0         6.0    70070.0           1   \n85817    70080.0           4    70150.0         6.0    70070.0           1   \n\n       AskPrice5  AskVolume5   good  \n0            0.0         0.0  False  \n1        70260.0         3.0  False  \n2        70230.0         2.0  False  \n3        70220.0        18.0  False  \n4        70230.0         2.0  False  \n...          ...         ...    ...  \n85813    70170.0         5.0  False  \n85814    70160.0         5.0  False  \n85815    70160.0         5.0  False  \n85816    70160.0         5.0  False  \n85817    70160.0         5.0  False  \n\n[85818 rows x 26 columns]",
      "text/html": "<div>\n<style scoped>\n    .dataframe tbody tr th:only-of-type {\n        vertical-align: middle;\n    }\n\n    .dataframe tbody tr th {\n        vertical-align: top;\n    }\n\n    .dataframe thead th {\n        text-align: right;\n    }\n</style>\n<table border=\"1\" class=\"dataframe\">\n  <thead>\n    <tr style=\"text-align: right;\">\n      <th></th>\n      <th>LastPrice</th>\n      <th>Volume</th>\n      <th>Turnover</th>\n      <th>UpdateTime</th>\n      <th>UpdateMillisec</th>\n      <th>BidPrice1</th>\n      <th>BidVolume1</th>\n      <th>AskPrice1</th>\n      <th>AskVolume1</th>\n      <th>BidPrice2</th>\n      <th>...</th>\n      <th>AskVolume3</th>\n      <th>BidPrice4</th>\n      <th>BidVolume4</th>\n      <th>AskPrice4</th>\n      <th>AskVolume4</th>\n      <th>BidPrice5</th>\n      <th>BidVolume5</th>\n      <th>AskPrice5</th>\n      <th>AskVolume5</th>\n      <th>good</th>\n    </tr>\n  </thead>\n  <tbody>\n    <tr>\n      <th>0</th>\n      <td>70010.0</td>\n      <td>0.0</td>\n      <td>0.0</td>\n      <td>18:39:05</td>\n      <td>700</td>\n      <td>0.0</td>\n      <td>0</td>\n      <td>0.0</td>\n      <td>0.0</td>\n      <td>0.0</td>\n      <td>...</td>\n      <td>0.0</td>\n      <td>0.0</td>\n      <td>0</td>\n      <td>0.0</td>\n      <td>0.0</td>\n      <td>0.0</td>\n      <td>0</td>\n      <td>0.0</td>\n      <td>0.0</td>\n      <td>False</td>\n    </tr>\n    <tr>\n      <th>1</th>\n      <td>70200.0</td>\n      <td>84.0</td>\n      <td>29484000.0</td>\n      <td>20:59:00</td>\n      <td>500</td>\n      <td>70190.0</td>\n      <td>4</td>\n      <td>70200.0</td>\n      <td>98.0</td>\n      <td>70180.0</td>\n      <td>...</td>\n      <td>2.0</td>\n      <td>70160.0</td>\n      <td>4</td>\n      <td>70240.0</td>\n      <td>2.0</td>\n      <td>70150.0</td>\n      <td>31</td>\n      <td>70260.0</td>\n      <td>3.0</td>\n      <td>False</td>\n    </tr>\n    <tr>\n      <th>2</th>\n      <td>70190.0</td>\n      <td>25.0</td>\n      <td>8773650.0</td>\n      <td>21:00:00</td>\n      <td>500</td>\n      <td>70170.0</td>\n      <td>5</td>\n      <td>70190.0</td>\n      <td>17.0</td>\n      <td>70160.0</td>\n      <td>...</td>\n      <td>5.0</td>\n      <td>70140.0</td>\n      <td>2</td>\n      <td>70220.0</td>\n      <td>16.0</td>\n      <td>70120.0</td>\n      <td>12</td>\n      <td>70230.0</td>\n      <td>2.0</td>\n      <td>False</td>\n    </tr>\n    <tr>\n      <th>3</th>\n      <td>70170.0</td>\n      <td>77.0</td>\n      <td>27016350.0</td>\n      <td>21:00:01</td>\n      <td>0</td>\n      <td>70150.0</td>\n      <td>30</td>\n      <td>70170.0</td>\n      <td>7.0</td>\n      <td>70140.0</td>\n      <td>...</td>\n      <td>108.0</td>\n      <td>70120.0</td>\n      <td>14</td>\n      <td>70210.0</td>\n      <td>6.0</td>\n      <td>70110.0</td>\n      <td>31</td>\n      <td>70220.0</td>\n      <td>18.0</td>\n      <td>False</td>\n    </tr>\n    <tr>\n      <th>4</th>\n      <td>70190.0</td>\n      <td>31.0</td>\n      <td>10876500.0</td>\n      <td>21:00:01</td>\n      <td>500</td>\n      <td>70170.0</td>\n      <td>4</td>\n      <td>70190.0</td>\n      <td>14.0</td>\n      <td>70160.0</td>\n      <td>...</td>\n      <td>8.0</td>\n      <td>70140.0</td>\n      <td>4</td>\n      <td>70220.0</td>\n      <td>23.0</td>\n      <td>70130.0</td>\n      <td>2</td>\n      <td>70230.0</td>\n      <td>2.0</td>\n      <td>False</td>\n    </tr>\n    <tr>\n      <th>...</th>\n      <td>...</td>\n      <td>...</td>\n      <td>...</td>\n      <td>...</td>\n      <td>...</td>\n      <td>...</td>\n      <td>...</td>\n      <td>...</td>\n      <td>...</td>\n      <td>...</td>\n      <td>...</td>\n      <td>...</td>\n      <td>...</td>\n      <td>...</td>\n      <td>...</td>\n      <td>...</td>\n      <td>...</td>\n      <td>...</td>\n      <td>...</td>\n      <td>...</td>\n      <td>...</td>\n    </tr>\n    <tr>\n      <th>85813</th>\n      <td>70130.0</td>\n      <td>0.0</td>\n      <td>0.0</td>\n      <td>14:59:58</td>\n      <td>500</td>\n      <td>70110.0</td>\n      <td>5</td>\n      <td>70130.0</td>\n      <td>24.0</td>\n      <td>70100.0</td>\n      <td>...</td>\n      <td>6.0</td>\n      <td>70080.0</td>\n      <td>4</td>\n      <td>70160.0</td>\n      <td>5.0</td>\n      <td>70070.0</td>\n      <td>1</td>\n      <td>70170.0</td>\n      <td>5.0</td>\n      <td>False</td>\n    </tr>\n    <tr>\n      <th>85814</th>\n      <td>70130.0</td>\n      <td>0.0</td>\n      <td>0.0</td>\n      <td>14:59:59</td>\n      <td>0</td>\n      <td>70110.0</td>\n      <td>5</td>\n      <td>70120.0</td>\n      <td>1.0</td>\n      <td>70100.0</td>\n      <td>...</td>\n      <td>19.0</td>\n      <td>70080.0</td>\n      <td>4</td>\n      <td>70150.0</td>\n      <td>6.0</td>\n      <td>70070.0</td>\n      <td>1</td>\n      <td>70160.0</td>\n      <td>5.0</td>\n      <td>False</td>\n    </tr>\n    <tr>\n      <th>85815</th>\n      <td>70130.0</td>\n      <td>0.0</td>\n      <td>0.0</td>\n      <td>14:59:59</td>\n      <td>500</td>\n      <td>70110.0</td>\n      <td>5</td>\n      <td>70120.0</td>\n      <td>8.0</td>\n      <td>70100.0</td>\n      <td>...</td>\n      <td>19.0</td>\n      <td>70080.0</td>\n      <td>4</td>\n      <td>70150.0</td>\n      <td>6.0</td>\n      <td>70070.0</td>\n      <td>1</td>\n      <td>70160.0</td>\n      <td>5.0</td>\n      <td>False</td>\n    </tr>\n    <tr>\n      <th>85816</th>\n      <td>70110.0</td>\n      <td>1.0</td>\n      <td>350550.0</td>\n      <td>15:00:00</td>\n      <td>0</td>\n      <td>70110.0</td>\n      <td>5</td>\n      <td>70120.0</td>\n      <td>8.0</td>\n      <td>70100.0</td>\n      <td>...</td>\n      <td>19.0</td>\n      <td>70080.0</td>\n      <td>4</td>\n      <td>70150.0</td>\n      <td>6.0</td>\n      <td>70070.0</td>\n      <td>1</td>\n      <td>70160.0</td>\n      <td>5.0</td>\n      <td>False</td>\n    </tr>\n    <tr>\n      <th>85817</th>\n      <td>70110.0</td>\n      <td>0.0</td>\n      <td>0.0</td>\n      <td>15:00:00</td>\n      <td>500</td>\n      <td>70110.0</td>\n      <td>5</td>\n      <td>70120.0</td>\n      <td>8.0</td>\n      <td>70100.0</td>\n      <td>...</td>\n      <td>19.0</td>\n      <td>70080.0</td>\n      <td>4</td>\n      <td>70150.0</td>\n      <td>6.0</td>\n      <td>70070.0</td>\n      <td>1</td>\n      <td>70160.0</td>\n      <td>5.0</td>\n      <td>False</td>\n    </tr>\n  </tbody>\n</table>\n<p>85818 rows × 26 columns</p>\n</div>"
     },
     "execution_count": 21,
     "metadata": {},
     "output_type": "execute_result"
    }
   ],
   "source": [
    "data = load(DATA_PATH_1+\"cu/20220104.pkl\")\n",
    "data\n",
    "# 21:00 - 00:59\n",
    "# 09:00 - 11:30 -- 13:30 - 15:00\n",
    "# 09:00 - 11:30 -- 13:30 - 15:00 -- 21:00 - 00:59\n",
    "# 09:00 - 11:30 -- 13:30 - 15:00"
   ],
   "metadata": {
    "collapsed": false,
    "ExecuteTime": {
     "end_time": "2024-06-13T15:02:58.284169800Z",
     "start_time": "2024-06-13T15:02:58.174320500Z"
    }
   }
  },
  {
   "cell_type": "code",
   "execution_count": 22,
   "outputs": [
    {
     "data": {
      "text/plain": "       LastPrice  Volume    Turnover UpdateTime  UpdateMillisec  BidPrice1  \\\n32086    70510.0   117.0  41248350.0   08:59:00             500    70500.0   \n32087    70490.0    35.0  12337850.0   09:00:00             500    70460.0   \n32088    70460.0    79.0  27835700.0   09:00:01               0    70450.0   \n32089    70450.0    65.0  22897800.0   09:00:01             500    70430.0   \n32090    70440.0    35.0  12325350.0   09:00:02               0    70400.0   \n...          ...     ...         ...        ...             ...        ...   \n68929    70720.0     1.0    353600.0   00:59:57             500    70710.0   \n68930    70720.0     2.0    707150.0   00:59:58             500    70710.0   \n68931    70710.0     2.0    707100.0   00:59:59               0    70710.0   \n68932    70710.0     0.0         0.0   00:59:59             500    70710.0   \n68933    70710.0     0.0         0.0   00:59:59             500    70710.0   \n\n       BidVolume1  AskPrice1  AskVolume1  BidPrice2  ...  AskVolume3  \\\n32086          15    70550.0        46.0    70490.0  ...         4.0   \n32087          17    70490.0         9.0    70450.0  ...         7.0   \n32088           2    70460.0        17.0    70440.0  ...        32.0   \n32089           1    70440.0         1.0    70420.0  ...         4.0   \n32090           7    70430.0         5.0    70390.0  ...        14.0   \n...           ...        ...         ...        ...  ...         ...   \n68929           5    70720.0         4.0    70650.0  ...        21.0   \n68930           4    70720.0         3.0    70650.0  ...        21.0   \n68931           2    70720.0         4.0    70650.0  ...        21.0   \n68932           3    70720.0         4.0    70650.0  ...        21.0   \n68933           3    70720.0         4.0    70650.0  ...        21.0   \n\n       BidPrice4  BidVolume4  AskPrice4  AskVolume4  BidPrice5  BidVolume5  \\\n32086    70450.0          17    70600.0        51.0    70440.0           5   \n32087    70430.0           1    70530.0         2.0    70420.0          10   \n32088    70420.0           9    70500.0        55.0    70410.0          25   \n32089    70400.0           6    70480.0         4.0    70370.0           2   \n32090    70360.0           2    70460.0        10.0    70330.0           2   \n...          ...         ...        ...         ...        ...         ...   \n68929    70610.0           1    70750.0        81.0    70600.0           1   \n68930    70630.0           1    70750.0        81.0    70610.0           1   \n68931    70630.0           1    70750.0        81.0    70610.0           1   \n68932    70610.0           1    70750.0        81.0    70600.0           1   \n68933    70610.0           1    70750.0        81.0    70600.0           1   \n\n       AskPrice5  AskVolume5  good  \n32086    70630.0        10.0  True  \n32087    70540.0        18.0  True  \n32088    70510.0         8.0  True  \n32089    70490.0        34.0  True  \n32090    70480.0         3.0  True  \n...          ...         ...   ...  \n68929    70760.0         4.0  True  \n68930    70760.0         4.0  True  \n68931    70760.0         4.0  True  \n68932    70760.0         3.0  True  \n68933    70760.0         3.0  True  \n\n[36847 rows x 26 columns]",
      "text/html": "<div>\n<style scoped>\n    .dataframe tbody tr th:only-of-type {\n        vertical-align: middle;\n    }\n\n    .dataframe tbody tr th {\n        vertical-align: top;\n    }\n\n    .dataframe thead th {\n        text-align: right;\n    }\n</style>\n<table border=\"1\" class=\"dataframe\">\n  <thead>\n    <tr style=\"text-align: right;\">\n      <th></th>\n      <th>LastPrice</th>\n      <th>Volume</th>\n      <th>Turnover</th>\n      <th>UpdateTime</th>\n      <th>UpdateMillisec</th>\n      <th>BidPrice1</th>\n      <th>BidVolume1</th>\n      <th>AskPrice1</th>\n      <th>AskVolume1</th>\n      <th>BidPrice2</th>\n      <th>...</th>\n      <th>AskVolume3</th>\n      <th>BidPrice4</th>\n      <th>BidVolume4</th>\n      <th>AskPrice4</th>\n      <th>AskVolume4</th>\n      <th>BidPrice5</th>\n      <th>BidVolume5</th>\n      <th>AskPrice5</th>\n      <th>AskVolume5</th>\n      <th>good</th>\n    </tr>\n  </thead>\n  <tbody>\n    <tr>\n      <th>32086</th>\n      <td>70510.0</td>\n      <td>117.0</td>\n      <td>41248350.0</td>\n      <td>08:59:00</td>\n      <td>500</td>\n      <td>70500.0</td>\n      <td>15</td>\n      <td>70550.0</td>\n      <td>46.0</td>\n      <td>70490.0</td>\n      <td>...</td>\n      <td>4.0</td>\n      <td>70450.0</td>\n      <td>17</td>\n      <td>70600.0</td>\n      <td>51.0</td>\n      <td>70440.0</td>\n      <td>5</td>\n      <td>70630.0</td>\n      <td>10.0</td>\n      <td>True</td>\n    </tr>\n    <tr>\n      <th>32087</th>\n      <td>70490.0</td>\n      <td>35.0</td>\n      <td>12337850.0</td>\n      <td>09:00:00</td>\n      <td>500</td>\n      <td>70460.0</td>\n      <td>17</td>\n      <td>70490.0</td>\n      <td>9.0</td>\n      <td>70450.0</td>\n      <td>...</td>\n      <td>7.0</td>\n      <td>70430.0</td>\n      <td>1</td>\n      <td>70530.0</td>\n      <td>2.0</td>\n      <td>70420.0</td>\n      <td>10</td>\n      <td>70540.0</td>\n      <td>18.0</td>\n      <td>True</td>\n    </tr>\n    <tr>\n      <th>32088</th>\n      <td>70460.0</td>\n      <td>79.0</td>\n      <td>27835700.0</td>\n      <td>09:00:01</td>\n      <td>0</td>\n      <td>70450.0</td>\n      <td>2</td>\n      <td>70460.0</td>\n      <td>17.0</td>\n      <td>70440.0</td>\n      <td>...</td>\n      <td>32.0</td>\n      <td>70420.0</td>\n      <td>9</td>\n      <td>70500.0</td>\n      <td>55.0</td>\n      <td>70410.0</td>\n      <td>25</td>\n      <td>70510.0</td>\n      <td>8.0</td>\n      <td>True</td>\n    </tr>\n    <tr>\n      <th>32089</th>\n      <td>70450.0</td>\n      <td>65.0</td>\n      <td>22897800.0</td>\n      <td>09:00:01</td>\n      <td>500</td>\n      <td>70430.0</td>\n      <td>1</td>\n      <td>70440.0</td>\n      <td>1.0</td>\n      <td>70420.0</td>\n      <td>...</td>\n      <td>4.0</td>\n      <td>70400.0</td>\n      <td>6</td>\n      <td>70480.0</td>\n      <td>4.0</td>\n      <td>70370.0</td>\n      <td>2</td>\n      <td>70490.0</td>\n      <td>34.0</td>\n      <td>True</td>\n    </tr>\n    <tr>\n      <th>32090</th>\n      <td>70440.0</td>\n      <td>35.0</td>\n      <td>12325350.0</td>\n      <td>09:00:02</td>\n      <td>0</td>\n      <td>70400.0</td>\n      <td>7</td>\n      <td>70430.0</td>\n      <td>5.0</td>\n      <td>70390.0</td>\n      <td>...</td>\n      <td>14.0</td>\n      <td>70360.0</td>\n      <td>2</td>\n      <td>70460.0</td>\n      <td>10.0</td>\n      <td>70330.0</td>\n      <td>2</td>\n      <td>70480.0</td>\n      <td>3.0</td>\n      <td>True</td>\n    </tr>\n    <tr>\n      <th>...</th>\n      <td>...</td>\n      <td>...</td>\n      <td>...</td>\n      <td>...</td>\n      <td>...</td>\n      <td>...</td>\n      <td>...</td>\n      <td>...</td>\n      <td>...</td>\n      <td>...</td>\n      <td>...</td>\n      <td>...</td>\n      <td>...</td>\n      <td>...</td>\n      <td>...</td>\n      <td>...</td>\n      <td>...</td>\n      <td>...</td>\n      <td>...</td>\n      <td>...</td>\n      <td>...</td>\n    </tr>\n    <tr>\n      <th>68929</th>\n      <td>70720.0</td>\n      <td>1.0</td>\n      <td>353600.0</td>\n      <td>00:59:57</td>\n      <td>500</td>\n      <td>70710.0</td>\n      <td>5</td>\n      <td>70720.0</td>\n      <td>4.0</td>\n      <td>70650.0</td>\n      <td>...</td>\n      <td>21.0</td>\n      <td>70610.0</td>\n      <td>1</td>\n      <td>70750.0</td>\n      <td>81.0</td>\n      <td>70600.0</td>\n      <td>1</td>\n      <td>70760.0</td>\n      <td>4.0</td>\n      <td>True</td>\n    </tr>\n    <tr>\n      <th>68930</th>\n      <td>70720.0</td>\n      <td>2.0</td>\n      <td>707150.0</td>\n      <td>00:59:58</td>\n      <td>500</td>\n      <td>70710.0</td>\n      <td>4</td>\n      <td>70720.0</td>\n      <td>3.0</td>\n      <td>70650.0</td>\n      <td>...</td>\n      <td>21.0</td>\n      <td>70630.0</td>\n      <td>1</td>\n      <td>70750.0</td>\n      <td>81.0</td>\n      <td>70610.0</td>\n      <td>1</td>\n      <td>70760.0</td>\n      <td>4.0</td>\n      <td>True</td>\n    </tr>\n    <tr>\n      <th>68931</th>\n      <td>70710.0</td>\n      <td>2.0</td>\n      <td>707100.0</td>\n      <td>00:59:59</td>\n      <td>0</td>\n      <td>70710.0</td>\n      <td>2</td>\n      <td>70720.0</td>\n      <td>4.0</td>\n      <td>70650.0</td>\n      <td>...</td>\n      <td>21.0</td>\n      <td>70630.0</td>\n      <td>1</td>\n      <td>70750.0</td>\n      <td>81.0</td>\n      <td>70610.0</td>\n      <td>1</td>\n      <td>70760.0</td>\n      <td>4.0</td>\n      <td>True</td>\n    </tr>\n    <tr>\n      <th>68932</th>\n      <td>70710.0</td>\n      <td>0.0</td>\n      <td>0.0</td>\n      <td>00:59:59</td>\n      <td>500</td>\n      <td>70710.0</td>\n      <td>3</td>\n      <td>70720.0</td>\n      <td>4.0</td>\n      <td>70650.0</td>\n      <td>...</td>\n      <td>21.0</td>\n      <td>70610.0</td>\n      <td>1</td>\n      <td>70750.0</td>\n      <td>81.0</td>\n      <td>70600.0</td>\n      <td>1</td>\n      <td>70760.0</td>\n      <td>3.0</td>\n      <td>True</td>\n    </tr>\n    <tr>\n      <th>68933</th>\n      <td>70710.0</td>\n      <td>0.0</td>\n      <td>0.0</td>\n      <td>00:59:59</td>\n      <td>500</td>\n      <td>70710.0</td>\n      <td>3</td>\n      <td>70720.0</td>\n      <td>4.0</td>\n      <td>70650.0</td>\n      <td>...</td>\n      <td>21.0</td>\n      <td>70610.0</td>\n      <td>1</td>\n      <td>70750.0</td>\n      <td>81.0</td>\n      <td>70600.0</td>\n      <td>1</td>\n      <td>70760.0</td>\n      <td>3.0</td>\n      <td>True</td>\n    </tr>\n  </tbody>\n</table>\n<p>36847 rows × 26 columns</p>\n</div>"
     },
     "execution_count": 22,
     "metadata": {},
     "output_type": "execute_result"
    }
   ],
   "source": [
    "data.loc[data[\"good\"]==True]"
   ],
   "metadata": {
    "collapsed": false,
    "ExecuteTime": {
     "end_time": "2024-06-13T15:02:58.320681400Z",
     "start_time": "2024-06-13T15:02:58.279169400Z"
    }
   }
  },
  {
   "cell_type": "code",
   "execution_count": 23,
   "outputs": [],
   "source": [
    "feature_list = ['BidPrice1', 'BidVolume1', 'AskPrice1', 'AskVolume1',\n",
    "                'BidPrice2', 'BidVolume2', 'AskPrice2', 'AskVolume2',\n",
    "                'BidPrice3', 'BidVolume3', 'AskPrice3', 'AskVolume3',\n",
    "                'BidPrice4', 'BidVolume4', 'AskPrice4', 'AskVolume4',\n",
    "                'BidPrice5', 'BidVolume5', 'AskPrice5', 'AskVolume5',]"
   ],
   "metadata": {
    "collapsed": false,
    "ExecuteTime": {
     "end_time": "2024-06-13T15:02:58.357478100Z",
     "start_time": "2024-06-13T15:02:58.319556700Z"
    }
   }
  },
  {
   "cell_type": "code",
   "execution_count": 24,
   "outputs": [],
   "source": [
    "def weight_price(data, tao=None, delta=None):\n",
    "    return (data[\"BidPrice1\"]*data[\"AskVolume1\"]+data[\"AskPrice1\"]*data[\"BidVolume1\"])/(data[\"BidVolume1\"]+data[\"AskVolume1\"])\n",
    "\n",
    "def difference_of_price(data, tao, delta=None):\n",
    "    return data[\"weight_price\"].rolling(window=tao, min_periods=1).apply(lambda x: x.iloc[-1] - x.iloc[0])\n",
    "\n",
    "def m_neg(data, tao, delta=None):\n",
    "    return data['weight_price'].rolling(window=tao, min_periods=1).mean()\n",
    "\n",
    "def m_pos(data, tao, delta=None):\n",
    "    return data['weight_price'].iloc[::-1].rolling(window=tao, min_periods=1).mean().iloc[::-1]\n",
    "\n",
    "def ret(data, tao, delta=None):\n",
    "    return (m_pos(data, tao)-m_neg(data, tao))/m_neg(data,tao)\n",
    "\n",
    "def classify(data, tao, delta):\n",
    "    return ret(data, tao).apply(lambda x: 1 if x>delta else (-1 if x<-delta else 0))\n"
   ],
   "metadata": {
    "collapsed": false,
    "ExecuteTime": {
     "end_time": "2024-06-13T15:02:58.469503300Z",
     "start_time": "2024-06-13T15:02:58.325684600Z"
    }
   }
  },
  {
   "cell_type": "code",
   "execution_count": 25,
   "outputs": [],
   "source": [
    "label_func_list = [weight_price, difference_of_price, m_neg, m_pos, ret, classify]"
   ],
   "metadata": {
    "collapsed": false,
    "ExecuteTime": {
     "end_time": "2024-06-13T15:02:58.484506500Z",
     "start_time": "2024-06-13T15:02:58.330174100Z"
    }
   }
  },
  {
   "cell_type": "code",
   "execution_count": 26,
   "outputs": [],
   "source": [
    "def get_near_day(date_str, days):\n",
    "    # 将字符串转换为日期对象\n",
    "    date_obj = datetime.strptime(date_str, '%Y%m%d')\n",
    "    # 计算下一天\n",
    "    if days > 0:\n",
    "        near_day = date_obj + timedelta(days=days)\n",
    "    else:\n",
    "        near_day = date_obj - timedelta(days=-days)\n",
    "    # 将日期对象转换为字符串\n",
    "    near_day_str = near_day.strftime('%Y%m%d')\n",
    "    return near_day_str"
   ],
   "metadata": {
    "collapsed": false,
    "ExecuteTime": {
     "end_time": "2024-06-13T15:02:58.494508Z",
     "start_time": "2024-06-13T15:02:58.338098100Z"
    }
   }
  },
  {
   "cell_type": "code",
   "execution_count": 27,
   "outputs": [],
   "source": [
    "def preprocessed_daily_data(file_name, product, feature_list, label_func_list, tao=60, delta=0.0001):\n",
    "    print(file_name)\n",
    "    data = load(DATA_PATH_1+product+\"/\"+file_name)\n",
    "    data = data[data[\"good\"]==True]\n",
    "\n",
    "    today = file_name[-12:-4]\n",
    "    next_day = get_near_day(today, 1)\n",
    "    data[\"IsNextDay\"] = data[\"UpdateTime\"].str.startswith(\"00\",\"01\")\n",
    "\n",
    "    data[\"TimeStamp\"] = data.apply(lambda row: next_day[0:4]+\"-\"+next_day[4:6]+\"-\"+next_day[6:8]+\" \"+row[\"UpdateTime\"]+\".\"+str(row[\"UpdateMillisec\"]) if row[\"IsNextDay\"] else today[0:4]+\"-\"+today[4:6]+\"-\"+today[6:8]+\" \"+row[\"UpdateTime\"]+\".\"+str(row[\"UpdateMillisec\"]), axis=1)\n",
    "\n",
    "    data[\"TimeStamp\"] = pd.to_datetime(data[\"TimeStamp\"])\n",
    "\n",
    "    df_data = data[[\"TimeStamp\"]+feature_list]\n",
    "    df_data.index = data[\"TimeStamp\"]\n",
    "\n",
    "    for label_func in label_func_list:\n",
    "        df_data[label_func.__name__] = label_func(df_data, tao, delta)\n",
    "\n",
    "    save(df_data, SAVE_PATH+\"/tmp pkl/\"+product+\"/\"+today+\".pkl\")\n",
    "\n",
    "    return df_data"
   ],
   "metadata": {
    "collapsed": false,
    "ExecuteTime": {
     "end_time": "2024-06-13T15:02:58.532517200Z",
     "start_time": "2024-06-13T15:02:58.357478100Z"
    }
   }
  },
  {
   "cell_type": "code",
   "execution_count": 28,
   "outputs": [
    {
     "name": "stdout",
     "output_type": "stream",
     "text": [
      "20220104.pkl\n"
     ]
    },
    {
     "data": {
      "text/plain": "                                      TimeStamp  BidPrice1  BidVolume1  \\\nTimeStamp                                                                \n2022-01-04 08:59:00.500 2022-01-04 08:59:00.500    70500.0          15   \n2022-01-04 09:00:00.500 2022-01-04 09:00:00.500    70460.0          17   \n2022-01-04 09:00:01.000 2022-01-04 09:00:01.000    70450.0           2   \n2022-01-04 09:00:01.500 2022-01-04 09:00:01.500    70430.0           1   \n2022-01-04 09:00:02.000 2022-01-04 09:00:02.000    70400.0           7   \n...                                         ...        ...         ...   \n2022-01-05 00:59:57.500 2022-01-05 00:59:57.500    70710.0           5   \n2022-01-05 00:59:58.500 2022-01-05 00:59:58.500    70710.0           4   \n2022-01-05 00:59:59.000 2022-01-05 00:59:59.000    70710.0           2   \n2022-01-05 00:59:59.500 2022-01-05 00:59:59.500    70710.0           3   \n2022-01-05 00:59:59.500 2022-01-05 00:59:59.500    70710.0           3   \n\n                         AskPrice1  AskVolume1  BidPrice2  BidVolume2  \\\nTimeStamp                                                               \n2022-01-04 08:59:00.500    70550.0        46.0    70490.0           3   \n2022-01-04 09:00:00.500    70490.0         9.0    70450.0          12   \n2022-01-04 09:00:01.000    70460.0        17.0    70440.0           7   \n2022-01-04 09:00:01.500    70440.0         1.0    70420.0          10   \n2022-01-04 09:00:02.000    70430.0         5.0    70390.0           1   \n...                            ...         ...        ...         ...   \n2022-01-05 00:59:57.500    70720.0         4.0    70650.0           2   \n2022-01-05 00:59:58.500    70720.0         3.0    70650.0           1   \n2022-01-05 00:59:59.000    70720.0         4.0    70650.0           1   \n2022-01-05 00:59:59.500    70720.0         4.0    70650.0           1   \n2022-01-05 00:59:59.500    70720.0         4.0    70650.0           1   \n\n                         AskPrice2  AskVolume2  BidPrice3  ...  BidPrice5  \\\nTimeStamp                                                  ...              \n2022-01-04 08:59:00.500    70570.0       104.0    70460.0  ...    70440.0   \n2022-01-04 09:00:00.500    70500.0        51.0    70440.0  ...    70420.0   \n2022-01-04 09:00:01.000    70480.0         3.0    70430.0  ...    70410.0   \n2022-01-04 09:00:01.500    70450.0        20.0    70410.0  ...    70370.0   \n2022-01-04 09:00:02.000    70440.0         5.0    70370.0  ...    70330.0   \n...                            ...         ...        ...  ...        ...   \n2022-01-05 00:59:57.500    70730.0        36.0    70630.0  ...    70600.0   \n2022-01-05 00:59:58.500    70730.0        36.0    70640.0  ...    70610.0   \n2022-01-05 00:59:59.000    70730.0        36.0    70640.0  ...    70610.0   \n2022-01-05 00:59:59.500    70730.0        36.0    70630.0  ...    70600.0   \n2022-01-05 00:59:59.500    70730.0        36.0    70630.0  ...    70600.0   \n\n                         BidVolume5  AskPrice5  AskVolume5  weight_price  \\\nTimeStamp                                                                  \n2022-01-04 08:59:00.500           5    70630.0        10.0  70512.295082   \n2022-01-04 09:00:00.500          10    70540.0        18.0  70479.615385   \n2022-01-04 09:00:01.000          25    70510.0         8.0  70451.052632   \n2022-01-04 09:00:01.500           2    70490.0        34.0  70435.000000   \n2022-01-04 09:00:02.000           2    70480.0         3.0  70417.500000   \n...                             ...        ...         ...           ...   \n2022-01-05 00:59:57.500           1    70760.0         4.0  70715.555556   \n2022-01-05 00:59:58.500           1    70760.0         4.0  70715.714286   \n2022-01-05 00:59:59.000           1    70760.0         4.0  70713.333333   \n2022-01-05 00:59:59.500           1    70760.0         3.0  70714.285714   \n2022-01-05 00:59:59.500           1    70760.0         3.0  70714.285714   \n\n                         difference_of_price         m_neg         m_pos  \\\nTimeStamp                                                                  \n2022-01-04 08:59:00.500             0.000000  70512.295082  70318.508702   \n2022-01-04 09:00:00.500           -32.679697  70495.955233  70313.720451   \n2022-01-04 09:00:01.000           -61.242450  70480.987699  70309.481247   \n2022-01-04 09:00:01.500           -77.295082  70469.490775  70305.416828   \n2022-01-04 09:00:02.000           -94.795082  70459.092620  70301.654008   \n...                                      ...           ...           ...   \n2022-01-05 00:59:57.500            32.222222  70690.922861  70714.634921   \n2022-01-05 00:59:58.500            32.857143  70691.462544  70714.404762   \n2022-01-05 00:59:59.000            31.666667  70691.970480  70713.968254   \n2022-01-05 00:59:59.500            32.619048  70692.514131  70714.285714   \n2022-01-05 00:59:59.500            30.168067  70693.057782  70714.285714   \n\n                              ret  classify  \nTimeStamp                                    \n2022-01-04 08:59:00.500 -0.002748        -1  \n2022-01-04 09:00:00.500 -0.002585        -1  \n2022-01-04 09:00:01.000 -0.002433        -1  \n2022-01-04 09:00:01.500 -0.002328        -1  \n2022-01-04 09:00:02.000 -0.002234        -1  \n...                           ...       ...  \n2022-01-05 00:59:57.500  0.000335         1  \n2022-01-05 00:59:58.500  0.000325         1  \n2022-01-05 00:59:59.000  0.000311         1  \n2022-01-05 00:59:59.500  0.000308         1  \n2022-01-05 00:59:59.500  0.000300         1  \n\n[36847 rows x 27 columns]",
      "text/html": "<div>\n<style scoped>\n    .dataframe tbody tr th:only-of-type {\n        vertical-align: middle;\n    }\n\n    .dataframe tbody tr th {\n        vertical-align: top;\n    }\n\n    .dataframe thead th {\n        text-align: right;\n    }\n</style>\n<table border=\"1\" class=\"dataframe\">\n  <thead>\n    <tr style=\"text-align: right;\">\n      <th></th>\n      <th>TimeStamp</th>\n      <th>BidPrice1</th>\n      <th>BidVolume1</th>\n      <th>AskPrice1</th>\n      <th>AskVolume1</th>\n      <th>BidPrice2</th>\n      <th>BidVolume2</th>\n      <th>AskPrice2</th>\n      <th>AskVolume2</th>\n      <th>BidPrice3</th>\n      <th>...</th>\n      <th>BidPrice5</th>\n      <th>BidVolume5</th>\n      <th>AskPrice5</th>\n      <th>AskVolume5</th>\n      <th>weight_price</th>\n      <th>difference_of_price</th>\n      <th>m_neg</th>\n      <th>m_pos</th>\n      <th>ret</th>\n      <th>classify</th>\n    </tr>\n    <tr>\n      <th>TimeStamp</th>\n      <th></th>\n      <th></th>\n      <th></th>\n      <th></th>\n      <th></th>\n      <th></th>\n      <th></th>\n      <th></th>\n      <th></th>\n      <th></th>\n      <th></th>\n      <th></th>\n      <th></th>\n      <th></th>\n      <th></th>\n      <th></th>\n      <th></th>\n      <th></th>\n      <th></th>\n      <th></th>\n      <th></th>\n    </tr>\n  </thead>\n  <tbody>\n    <tr>\n      <th>2022-01-04 08:59:00.500</th>\n      <td>2022-01-04 08:59:00.500</td>\n      <td>70500.0</td>\n      <td>15</td>\n      <td>70550.0</td>\n      <td>46.0</td>\n      <td>70490.0</td>\n      <td>3</td>\n      <td>70570.0</td>\n      <td>104.0</td>\n      <td>70460.0</td>\n      <td>...</td>\n      <td>70440.0</td>\n      <td>5</td>\n      <td>70630.0</td>\n      <td>10.0</td>\n      <td>70512.295082</td>\n      <td>0.000000</td>\n      <td>70512.295082</td>\n      <td>70318.508702</td>\n      <td>-0.002748</td>\n      <td>-1</td>\n    </tr>\n    <tr>\n      <th>2022-01-04 09:00:00.500</th>\n      <td>2022-01-04 09:00:00.500</td>\n      <td>70460.0</td>\n      <td>17</td>\n      <td>70490.0</td>\n      <td>9.0</td>\n      <td>70450.0</td>\n      <td>12</td>\n      <td>70500.0</td>\n      <td>51.0</td>\n      <td>70440.0</td>\n      <td>...</td>\n      <td>70420.0</td>\n      <td>10</td>\n      <td>70540.0</td>\n      <td>18.0</td>\n      <td>70479.615385</td>\n      <td>-32.679697</td>\n      <td>70495.955233</td>\n      <td>70313.720451</td>\n      <td>-0.002585</td>\n      <td>-1</td>\n    </tr>\n    <tr>\n      <th>2022-01-04 09:00:01.000</th>\n      <td>2022-01-04 09:00:01.000</td>\n      <td>70450.0</td>\n      <td>2</td>\n      <td>70460.0</td>\n      <td>17.0</td>\n      <td>70440.0</td>\n      <td>7</td>\n      <td>70480.0</td>\n      <td>3.0</td>\n      <td>70430.0</td>\n      <td>...</td>\n      <td>70410.0</td>\n      <td>25</td>\n      <td>70510.0</td>\n      <td>8.0</td>\n      <td>70451.052632</td>\n      <td>-61.242450</td>\n      <td>70480.987699</td>\n      <td>70309.481247</td>\n      <td>-0.002433</td>\n      <td>-1</td>\n    </tr>\n    <tr>\n      <th>2022-01-04 09:00:01.500</th>\n      <td>2022-01-04 09:00:01.500</td>\n      <td>70430.0</td>\n      <td>1</td>\n      <td>70440.0</td>\n      <td>1.0</td>\n      <td>70420.0</td>\n      <td>10</td>\n      <td>70450.0</td>\n      <td>20.0</td>\n      <td>70410.0</td>\n      <td>...</td>\n      <td>70370.0</td>\n      <td>2</td>\n      <td>70490.0</td>\n      <td>34.0</td>\n      <td>70435.000000</td>\n      <td>-77.295082</td>\n      <td>70469.490775</td>\n      <td>70305.416828</td>\n      <td>-0.002328</td>\n      <td>-1</td>\n    </tr>\n    <tr>\n      <th>2022-01-04 09:00:02.000</th>\n      <td>2022-01-04 09:00:02.000</td>\n      <td>70400.0</td>\n      <td>7</td>\n      <td>70430.0</td>\n      <td>5.0</td>\n      <td>70390.0</td>\n      <td>1</td>\n      <td>70440.0</td>\n      <td>5.0</td>\n      <td>70370.0</td>\n      <td>...</td>\n      <td>70330.0</td>\n      <td>2</td>\n      <td>70480.0</td>\n      <td>3.0</td>\n      <td>70417.500000</td>\n      <td>-94.795082</td>\n      <td>70459.092620</td>\n      <td>70301.654008</td>\n      <td>-0.002234</td>\n      <td>-1</td>\n    </tr>\n    <tr>\n      <th>...</th>\n      <td>...</td>\n      <td>...</td>\n      <td>...</td>\n      <td>...</td>\n      <td>...</td>\n      <td>...</td>\n      <td>...</td>\n      <td>...</td>\n      <td>...</td>\n      <td>...</td>\n      <td>...</td>\n      <td>...</td>\n      <td>...</td>\n      <td>...</td>\n      <td>...</td>\n      <td>...</td>\n      <td>...</td>\n      <td>...</td>\n      <td>...</td>\n      <td>...</td>\n      <td>...</td>\n    </tr>\n    <tr>\n      <th>2022-01-05 00:59:57.500</th>\n      <td>2022-01-05 00:59:57.500</td>\n      <td>70710.0</td>\n      <td>5</td>\n      <td>70720.0</td>\n      <td>4.0</td>\n      <td>70650.0</td>\n      <td>2</td>\n      <td>70730.0</td>\n      <td>36.0</td>\n      <td>70630.0</td>\n      <td>...</td>\n      <td>70600.0</td>\n      <td>1</td>\n      <td>70760.0</td>\n      <td>4.0</td>\n      <td>70715.555556</td>\n      <td>32.222222</td>\n      <td>70690.922861</td>\n      <td>70714.634921</td>\n      <td>0.000335</td>\n      <td>1</td>\n    </tr>\n    <tr>\n      <th>2022-01-05 00:59:58.500</th>\n      <td>2022-01-05 00:59:58.500</td>\n      <td>70710.0</td>\n      <td>4</td>\n      <td>70720.0</td>\n      <td>3.0</td>\n      <td>70650.0</td>\n      <td>1</td>\n      <td>70730.0</td>\n      <td>36.0</td>\n      <td>70640.0</td>\n      <td>...</td>\n      <td>70610.0</td>\n      <td>1</td>\n      <td>70760.0</td>\n      <td>4.0</td>\n      <td>70715.714286</td>\n      <td>32.857143</td>\n      <td>70691.462544</td>\n      <td>70714.404762</td>\n      <td>0.000325</td>\n      <td>1</td>\n    </tr>\n    <tr>\n      <th>2022-01-05 00:59:59.000</th>\n      <td>2022-01-05 00:59:59.000</td>\n      <td>70710.0</td>\n      <td>2</td>\n      <td>70720.0</td>\n      <td>4.0</td>\n      <td>70650.0</td>\n      <td>1</td>\n      <td>70730.0</td>\n      <td>36.0</td>\n      <td>70640.0</td>\n      <td>...</td>\n      <td>70610.0</td>\n      <td>1</td>\n      <td>70760.0</td>\n      <td>4.0</td>\n      <td>70713.333333</td>\n      <td>31.666667</td>\n      <td>70691.970480</td>\n      <td>70713.968254</td>\n      <td>0.000311</td>\n      <td>1</td>\n    </tr>\n    <tr>\n      <th>2022-01-05 00:59:59.500</th>\n      <td>2022-01-05 00:59:59.500</td>\n      <td>70710.0</td>\n      <td>3</td>\n      <td>70720.0</td>\n      <td>4.0</td>\n      <td>70650.0</td>\n      <td>1</td>\n      <td>70730.0</td>\n      <td>36.0</td>\n      <td>70630.0</td>\n      <td>...</td>\n      <td>70600.0</td>\n      <td>1</td>\n      <td>70760.0</td>\n      <td>3.0</td>\n      <td>70714.285714</td>\n      <td>32.619048</td>\n      <td>70692.514131</td>\n      <td>70714.285714</td>\n      <td>0.000308</td>\n      <td>1</td>\n    </tr>\n    <tr>\n      <th>2022-01-05 00:59:59.500</th>\n      <td>2022-01-05 00:59:59.500</td>\n      <td>70710.0</td>\n      <td>3</td>\n      <td>70720.0</td>\n      <td>4.0</td>\n      <td>70650.0</td>\n      <td>1</td>\n      <td>70730.0</td>\n      <td>36.0</td>\n      <td>70630.0</td>\n      <td>...</td>\n      <td>70600.0</td>\n      <td>1</td>\n      <td>70760.0</td>\n      <td>3.0</td>\n      <td>70714.285714</td>\n      <td>30.168067</td>\n      <td>70693.057782</td>\n      <td>70714.285714</td>\n      <td>0.000300</td>\n      <td>1</td>\n    </tr>\n  </tbody>\n</table>\n<p>36847 rows × 27 columns</p>\n</div>"
     },
     "execution_count": 28,
     "metadata": {},
     "output_type": "execute_result"
    }
   ],
   "source": [
    "tao = 60\n",
    "delta = 0.0001\n",
    "# file_name = DATA_PATH+product+\"/\"+\"20220104\"+\".pkl\"\n",
    "file_name = \"20220104\"+\".pkl\"\n",
    "df = preprocessed_daily_data(file_name, \"cu\", feature_list, label_func_list, tao, delta)\n",
    "df"
   ],
   "metadata": {
    "collapsed": false,
    "ExecuteTime": {
     "end_time": "2024-06-13T15:03:00.597294100Z",
     "start_time": "2024-06-13T15:02:58.358479Z"
    }
   }
  },
  {
   "cell_type": "code",
   "execution_count": 29,
   "outputs": [
    {
     "data": {
      "text/plain": "<Figure size 1000x600 with 1 Axes>",
      "image/png": "[encoded data removed]"
     },
     "metadata": {},
     "output_type": "display_data"
    }
   ],
   "source": [
    "import matplotlib.pyplot as plt\n",
    "\n",
    "plt.figure(figsize=(10, 6))\n",
    "plt.hist(df['ret'], bins=500, edgecolor='black')\n",
    "plt.title('Distribution of Weight Price')\n",
    "plt.xlabel('Weight Price')\n",
    "plt.ylabel('Frequency')\n",
    "plt.grid(True)\n",
    "plt.show()"
   ],
   "metadata": {
    "collapsed": false,
    "ExecuteTime": {
     "end_time": "2024-06-13T15:03:01.165133700Z",
     "start_time": "2024-06-13T15:03:00.598292500Z"
    }
   }
  },
  {
   "cell_type": "code",
   "execution_count": 30,
   "outputs": [],
   "source": [
    "def data_preprocession(product_list, CORE_NUM, feature_list, label_func_list, tao, delta):\n",
    "    for product in product_list:\n",
    "        os.makedirs(SAVE_PATH + \"/tmp pkl/\" + product, exist_ok=True)\n",
    "    for product in product_list:\n",
    "        print(product)\n",
    "        all_dates = np.array(os.listdir(DATA_PATH_1 + product))\n",
    "        parLapply(CORE_NUM, all_dates, preprocessed_daily_data,\n",
    "                  product=product, feature_list=feature_list, label_func_list=label_func_list, tao=tao, delta=delta)"
   ],
   "metadata": {
    "collapsed": false,
    "ExecuteTime": {
     "end_time": "2024-06-13T15:03:01.165133700Z",
     "start_time": "2024-06-13T15:03:01.152868800Z"
    }
   }
  },
  {
   "cell_type": "code",
   "execution_count": 31,
   "outputs": [
    {
     "name": "stdout",
     "output_type": "stream",
     "text": [
      "cu\n",
      "zn\n",
      "ni\n",
      "au\n",
      "ag\n"
     ]
    }
   ],
   "source": [
    "product_list = [\"cu\", \"zn\", \"ni\", \"au\", \"ag\"]\n",
    "CORE_NUM = int(os.environ['NUMBER_OF_PROCESSORS'])\n",
    "feature_list = ['BidPrice1', 'BidVolume1', 'AskPrice1', 'AskVolume1',\n",
    "                'BidPrice2', 'BidVolume2', 'AskPrice2', 'AskVolume2',\n",
    "                'BidPrice3', 'BidVolume3', 'AskPrice3', 'AskVolume3',\n",
    "                'BidPrice4', 'BidVolume4', 'AskPrice4', 'AskVolume4',\n",
    "                'BidPrice5', 'BidVolume5', 'AskPrice5', 'AskVolume5',]\n",
    "label_func_list = [weight_price, difference_of_price, m_neg, m_pos, ret, classify]\n",
    "tao = 60\n",
    "delta = 0.0001\n",
    "data_preprocession(product_list, CORE_NUM, feature_list, label_func_list, tao, delta)"
   ],
   "metadata": {
    "collapsed": false,
    "ExecuteTime": {
     "end_time": "2024-06-13T15:13:00.116257800Z",
     "start_time": "2024-06-13T15:03:01.164132800Z"
    }
   }
  },
  {
   "cell_type": "code",
   "execution_count": 32,
   "outputs": [
    {
     "data": {
      "text/plain": "                                      TimeStamp  BidPrice1  BidVolume1  \\\nTimeStamp                                                                \n2022-01-04 08:59:00.500 2022-01-04 08:59:00.500    70500.0          15   \n2022-01-04 09:00:00.500 2022-01-04 09:00:00.500    70460.0          17   \n2022-01-04 09:00:01.000 2022-01-04 09:00:01.000    70450.0           2   \n2022-01-04 09:00:01.500 2022-01-04 09:00:01.500    70430.0           1   \n2022-01-04 09:00:02.000 2022-01-04 09:00:02.000    70400.0           7   \n...                                         ...        ...         ...   \n2022-01-05 00:59:57.500 2022-01-05 00:59:57.500    70710.0           5   \n2022-01-05 00:59:58.500 2022-01-05 00:59:58.500    70710.0           4   \n2022-01-05 00:59:59.000 2022-01-05 00:59:59.000    70710.0           2   \n2022-01-05 00:59:59.500 2022-01-05 00:59:59.500    70710.0           3   \n2022-01-05 00:59:59.500 2022-01-05 00:59:59.500    70710.0           3   \n\n                         AskPrice1  AskVolume1  BidPrice2  BidVolume2  \\\nTimeStamp                                                               \n2022-01-04 08:59:00.500    70550.0        46.0    70490.0           3   \n2022-01-04 09:00:00.500    70490.0         9.0    70450.0          12   \n2022-01-04 09:00:01.000    70460.0        17.0    70440.0           7   \n2022-01-04 09:00:01.500    70440.0         1.0    70420.0          10   \n2022-01-04 09:00:02.000    70430.0         5.0    70390.0           1   \n...                            ...         ...        ...         ...   \n2022-01-05 00:59:57.500    70720.0         4.0    70650.0           2   \n2022-01-05 00:59:58.500    70720.0         3.0    70650.0           1   \n2022-01-05 00:59:59.000    70720.0         4.0    70650.0           1   \n2022-01-05 00:59:59.500    70720.0         4.0    70650.0           1   \n2022-01-05 00:59:59.500    70720.0         4.0    70650.0           1   \n\n                         AskPrice2  AskVolume2  BidPrice3  ...  BidPrice5  \\\nTimeStamp                                                  ...              \n2022-01-04 08:59:00.500    70570.0       104.0    70460.0  ...    70440.0   \n2022-01-04 09:00:00.500    70500.0        51.0    70440.0  ...    70420.0   \n2022-01-04 09:00:01.000    70480.0         3.0    70430.0  ...    70410.0   \n2022-01-04 09:00:01.500    70450.0        20.0    70410.0  ...    70370.0   \n2022-01-04 09:00:02.000    70440.0         5.0    70370.0  ...    70330.0   \n...                            ...         ...        ...  ...        ...   \n2022-01-05 00:59:57.500    70730.0        36.0    70630.0  ...    70600.0   \n2022-01-05 00:59:58.500    70730.0        36.0    70640.0  ...    70610.0   \n2022-01-05 00:59:59.000    70730.0        36.0    70640.0  ...    70610.0   \n2022-01-05 00:59:59.500    70730.0        36.0    70630.0  ...    70600.0   \n2022-01-05 00:59:59.500    70730.0        36.0    70630.0  ...    70600.0   \n\n                         BidVolume5  AskPrice5  AskVolume5  weight_price  \\\nTimeStamp                                                                  \n2022-01-04 08:59:00.500           5    70630.0        10.0  70512.295082   \n2022-01-04 09:00:00.500          10    70540.0        18.0  70479.615385   \n2022-01-04 09:00:01.000          25    70510.0         8.0  70451.052632   \n2022-01-04 09:00:01.500           2    70490.0        34.0  70435.000000   \n2022-01-04 09:00:02.000           2    70480.0         3.0  70417.500000   \n...                             ...        ...         ...           ...   \n2022-01-05 00:59:57.500           1    70760.0         4.0  70715.555556   \n2022-01-05 00:59:58.500           1    70760.0         4.0  70715.714286   \n2022-01-05 00:59:59.000           1    70760.0         4.0  70713.333333   \n2022-01-05 00:59:59.500           1    70760.0         3.0  70714.285714   \n2022-01-05 00:59:59.500           1    70760.0         3.0  70714.285714   \n\n                         difference_of_price         m_neg         m_pos  \\\nTimeStamp                                                                  \n2022-01-04 08:59:00.500             0.000000  70512.295082  70318.508702   \n2022-01-04 09:00:00.500           -32.679697  70495.955233  70313.720451   \n2022-01-04 09:00:01.000           -61.242450  70480.987699  70309.481247   \n2022-01-04 09:00:01.500           -77.295082  70469.490775  70305.416828   \n2022-01-04 09:00:02.000           -94.795082  70459.092620  70301.654008   \n...                                      ...           ...           ...   \n2022-01-05 00:59:57.500            32.222222  70690.922861  70714.634921   \n2022-01-05 00:59:58.500            32.857143  70691.462544  70714.404762   \n2022-01-05 00:59:59.000            31.666667  70691.970480  70713.968254   \n2022-01-05 00:59:59.500            32.619048  70692.514131  70714.285714   \n2022-01-05 00:59:59.500            30.168067  70693.057782  70714.285714   \n\n                              ret  classify  \nTimeStamp                                    \n2022-01-04 08:59:00.500 -0.002748        -1  \n2022-01-04 09:00:00.500 -0.002585        -1  \n2022-01-04 09:00:01.000 -0.002433        -1  \n2022-01-04 09:00:01.500 -0.002328        -1  \n2022-01-04 09:00:02.000 -0.002234        -1  \n...                           ...       ...  \n2022-01-05 00:59:57.500  0.000335         1  \n2022-01-05 00:59:58.500  0.000325         1  \n2022-01-05 00:59:59.000  0.000311         1  \n2022-01-05 00:59:59.500  0.000308         1  \n2022-01-05 00:59:59.500  0.000300         1  \n\n[36847 rows x 27 columns]",
      "text/html": "<div>\n<style scoped>\n    .dataframe tbody tr th:only-of-type {\n        vertical-align: middle;\n    }\n\n    .dataframe tbody tr th {\n        vertical-align: top;\n    }\n\n    .dataframe thead th {\n        text-align: right;\n    }\n</style>\n<table border=\"1\" class=\"dataframe\">\n  <thead>\n    <tr style=\"text-align: right;\">\n      <th></th>\n      <th>TimeStamp</th>\n      <th>BidPrice1</th>\n      <th>BidVolume1</th>\n      <th>AskPrice1</th>\n      <th>AskVolume1</th>\n      <th>BidPrice2</th>\n      <th>BidVolume2</th>\n      <th>AskPrice2</th>\n      <th>AskVolume2</th>\n      <th>BidPrice3</th>\n      <th>...</th>\n      <th>BidPrice5</th>\n      <th>BidVolume5</th>\n      <th>AskPrice5</th>\n      <th>AskVolume5</th>\n      <th>weight_price</th>\n      <th>difference_of_price</th>\n      <th>m_neg</th>\n      <th>m_pos</th>\n      <th>ret</th>\n      <th>classify</th>\n    </tr>\n    <tr>\n      <th>TimeStamp</th>\n      <th></th>\n      <th></th>\n      <th></th>\n      <th></th>\n      <th></th>\n      <th></th>\n      <th></th>\n      <th></th>\n      <th></th>\n      <th></th>\n      <th></th>\n      <th></th>\n      <th></th>\n      <th></th>\n      <th></th>\n      <th></th>\n      <th></th>\n      <th></th>\n      <th></th>\n      <th></th>\n      <th></th>\n    </tr>\n  </thead>\n  <tbody>\n    <tr>\n      <th>2022-01-04 08:59:00.500</th>\n      <td>2022-01-04 08:59:00.500</td>\n      <td>70500.0</td>\n      <td>15</td>\n      <td>70550.0</td>\n      <td>46.0</td>\n      <td>70490.0</td>\n      <td>3</td>\n      <td>70570.0</td>\n      <td>104.0</td>\n      <td>70460.0</td>\n      <td>...</td>\n      <td>70440.0</td>\n      <td>5</td>\n      <td>70630.0</td>\n      <td>10.0</td>\n      <td>70512.295082</td>\n      <td>0.000000</td>\n      <td>70512.295082</td>\n      <td>70318.508702</td>\n      <td>-0.002748</td>\n      <td>-1</td>\n    </tr>\n    <tr>\n      <th>2022-01-04 09:00:00.500</th>\n      <td>2022-01-04 09:00:00.500</td>\n      <td>70460.0</td>\n      <td>17</td>\n      <td>70490.0</td>\n      <td>9.0</td>\n      <td>70450.0</td>\n      <td>12</td>\n      <td>70500.0</td>\n      <td>51.0</td>\n      <td>70440.0</td>\n      <td>...</td>\n      <td>70420.0</td>\n      <td>10</td>\n      <td>70540.0</td>\n      <td>18.0</td>\n      <td>70479.615385</td>\n      <td>-32.679697</td>\n      <td>70495.955233</td>\n      <td>70313.720451</td>\n      <td>-0.002585</td>\n      <td>-1</td>\n    </tr>\n    <tr>\n      <th>2022-01-04 09:00:01.000</th>\n      <td>2022-01-04 09:00:01.000</td>\n      <td>70450.0</td>\n      <td>2</td>\n      <td>70460.0</td>\n      <td>17.0</td>\n      <td>70440.0</td>\n      <td>7</td>\n      <td>70480.0</td>\n      <td>3.0</td>\n      <td>70430.0</td>\n      <td>...</td>\n      <td>70410.0</td>\n      <td>25</td>\n      <td>70510.0</td>\n      <td>8.0</td>\n      <td>70451.052632</td>\n      <td>-61.242450</td>\n      <td>70480.987699</td>\n      <td>70309.481247</td>\n      <td>-0.002433</td>\n      <td>-1</td>\n    </tr>\n    <tr>\n      <th>2022-01-04 09:00:01.500</th>\n      <td>2022-01-04 09:00:01.500</td>\n      <td>70430.0</td>\n      <td>1</td>\n      <td>70440.0</td>\n      <td>1.0</td>\n      <td>70420.0</td>\n      <td>10</td>\n      <td>70450.0</td>\n      <td>20.0</td>\n      <td>70410.0</td>\n      <td>...</td>\n      <td>70370.0</td>\n      <td>2</td>\n      <td>70490.0</td>\n      <td>34.0</td>\n      <td>70435.000000</td>\n      <td>-77.295082</td>\n      <td>70469.490775</td>\n      <td>70305.416828</td>\n      <td>-0.002328</td>\n      <td>-1</td>\n    </tr>\n    <tr>\n      <th>2022-01-04 09:00:02.000</th>\n      <td>2022-01-04 09:00:02.000</td>\n      <td>70400.0</td>\n      <td>7</td>\n      <td>70430.0</td>\n      <td>5.0</td>\n      <td>70390.0</td>\n      <td>1</td>\n      <td>70440.0</td>\n      <td>5.0</td>\n      <td>70370.0</td>\n      <td>...</td>\n      <td>70330.0</td>\n      <td>2</td>\n      <td>70480.0</td>\n      <td>3.0</td>\n      <td>70417.500000</td>\n      <td>-94.795082</td>\n      <td>70459.092620</td>\n      <td>70301.654008</td>\n      <td>-0.002234</td>\n      <td>-1</td>\n    </tr>\n    <tr>\n      <th>...</th>\n      <td>...</td>\n      <td>...</td>\n      <td>...</td>\n      <td>...</td>\n      <td>...</td>\n      <td>...</td>\n      <td>...</td>\n      <td>...</td>\n      <td>...</td>\n      <td>...</td>\n      <td>...</td>\n      <td>...</td>\n      <td>...</td>\n      <td>...</td>\n      <td>...</td>\n      <td>...</td>\n      <td>...</td>\n      <td>...</td>\n      <td>...</td>\n      <td>...</td>\n      <td>...</td>\n    </tr>\n    <tr>\n      <th>2022-01-05 00:59:57.500</th>\n      <td>2022-01-05 00:59:57.500</td>\n      <td>70710.0</td>\n      <td>5</td>\n      <td>70720.0</td>\n      <td>4.0</td>\n      <td>70650.0</td>\n      <td>2</td>\n      <td>70730.0</td>\n      <td>36.0</td>\n      <td>70630.0</td>\n      <td>...</td>\n      <td>70600.0</td>\n      <td>1</td>\n      <td>70760.0</td>\n      <td>4.0</td>\n      <td>70715.555556</td>\n      <td>32.222222</td>\n      <td>70690.922861</td>\n      <td>70714.634921</td>\n      <td>0.000335</td>\n      <td>1</td>\n    </tr>\n    <tr>\n      <th>2022-01-05 00:59:58.500</th>\n      <td>2022-01-05 00:59:58.500</td>\n      <td>70710.0</td>\n      <td>4</td>\n      <td>70720.0</td>\n      <td>3.0</td>\n      <td>70650.0</td>\n      <td>1</td>\n      <td>70730.0</td>\n      <td>36.0</td>\n      <td>70640.0</td>\n      <td>...</td>\n      <td>70610.0</td>\n      <td>1</td>\n      <td>70760.0</td>\n      <td>4.0</td>\n      <td>70715.714286</td>\n      <td>32.857143</td>\n      <td>70691.462544</td>\n      <td>70714.404762</td>\n      <td>0.000325</td>\n      <td>1</td>\n    </tr>\n    <tr>\n      <th>2022-01-05 00:59:59.000</th>\n      <td>2022-01-05 00:59:59.000</td>\n      <td>70710.0</td>\n      <td>2</td>\n      <td>70720.0</td>\n      <td>4.0</td>\n      <td>70650.0</td>\n      <td>1</td>\n      <td>70730.0</td>\n      <td>36.0</td>\n      <td>70640.0</td>\n      <td>...</td>\n      <td>70610.0</td>\n      <td>1</td>\n      <td>70760.0</td>\n      <td>4.0</td>\n      <td>70713.333333</td>\n      <td>31.666667</td>\n      <td>70691.970480</td>\n      <td>70713.968254</td>\n      <td>0.000311</td>\n      <td>1</td>\n    </tr>\n    <tr>\n      <th>2022-01-05 00:59:59.500</th>\n      <td>2022-01-05 00:59:59.500</td>\n      <td>70710.0</td>\n      <td>3</td>\n      <td>70720.0</td>\n      <td>4.0</td>\n      <td>70650.0</td>\n      <td>1</td>\n      <td>70730.0</td>\n      <td>36.0</td>\n      <td>70630.0</td>\n      <td>...</td>\n      <td>70600.0</td>\n      <td>1</td>\n      <td>70760.0</td>\n      <td>3.0</td>\n      <td>70714.285714</td>\n      <td>32.619048</td>\n      <td>70692.514131</td>\n      <td>70714.285714</td>\n      <td>0.000308</td>\n      <td>1</td>\n    </tr>\n    <tr>\n      <th>2022-01-05 00:59:59.500</th>\n      <td>2022-01-05 00:59:59.500</td>\n      <td>70710.0</td>\n      <td>3</td>\n      <td>70720.0</td>\n      <td>4.0</td>\n      <td>70650.0</td>\n      <td>1</td>\n      <td>70730.0</td>\n      <td>36.0</td>\n      <td>70630.0</td>\n      <td>...</td>\n      <td>70600.0</td>\n      <td>1</td>\n      <td>70760.0</td>\n      <td>3.0</td>\n      <td>70714.285714</td>\n      <td>30.168067</td>\n      <td>70693.057782</td>\n      <td>70714.285714</td>\n      <td>0.000300</td>\n      <td>1</td>\n    </tr>\n  </tbody>\n</table>\n<p>36847 rows × 27 columns</p>\n</div>"
     },
     "execution_count": 32,
     "metadata": {},
     "output_type": "execute_result"
    }
   ],
   "source": [
    "load(TMP_DATA_PATH+\"cu/20220104.pkl\")"
   ],
   "metadata": {
    "collapsed": false,
    "ExecuteTime": {
     "end_time": "2024-06-13T15:13:00.180450200Z",
     "start_time": "2024-06-13T15:13:00.117258Z"
    }
   }
  },
  {
   "cell_type": "code",
   "execution_count": 33,
   "outputs": [],
   "source": [
    "# 订单流数据 DATA_PATH_2 = HEAD_PATH + \"/order flow tick/\"\n",
    "\n",
    "## contract: 合约的名字，如 rb1605，表示螺纹钢合约，2016 年 5 月到期；\n",
    "## date.time: 日期和时间合在一起，方便作图用；\n",
    "## price: 最新的成交价；\n",
    "## cum.open.int: 总的持仓量；\n",
    "## open.int: 最新的持仓量改变量\n",
    "## turnover: 最新的成交额；\n",
    "## qty: 最新的成交量；\n",
    "## bid: 买一价；\n",
    "## ask: 卖一价；\n",
    "## bid.qty: 买一量；\n",
    "## ask.qty: 卖一量；\n",
    "## date: 实际日期；\n",
    "## time: 实际时间；\n",
    "## milli: 毫秒数（上期所与中金所是 0、500，大商所随机，郑商所是 0）；\n",
    "## mid.price: 买一和卖一的中间价；\n",
    "## buy.trade: 一档主动买量（估算，非交易所提供）；\n",
    "## buy2.trade: 其他价位主动买量（估算，非交易所提供）；\n",
    "## sell.trade: 一档主动卖量（估算，非交易所提供）；\n",
    "## sell2.trade: 其他价位主动买量（估算，非交易所提供）；\n",
    "## log.price: wpr 的对数（wpr 下面定义）；\n",
    "## ret: 最新一笔行情的对数收益率；\n",
    "## wpr: 挂单量加权平均价；\n",
    "## wpr.ret: wpr 的价格变化；\n",
    "## min.1024: 过去 1024 笔行情的 wpr 最小值\n",
    "## max.1024: 过去 1024 笔行情的 wpr 最大值；\n",
    "## high: 当前 ask、前一个 ask、最新价的最高价（构造最小级别 K 线用）；\n",
    "## low: 当前 bid、前一个 bid、最新价的最低价（狗仔最小级别 K 线用）；\n",
    "## next.bid: 主动卖单的成交价（估算，非交易所提供），用于回测；\n",
    "## next.ask: 主动买单的成交价（估算，非交易所提供），用于回测；\n",
    "## min.1024: 1024跳滚动最低价\n",
    "## max.1024: 1024跳滚动最高价\n",
    "## min.2048: 2048跳滚动最低价\n",
    "## max.2048: 2048跳滚动最高价\n",
    "## min.4096: 4096滚动最低价\n",
    "## max.4096: 4096滚动最高价"
   ],
   "metadata": {
    "collapsed": false,
    "ExecuteTime": {
     "end_time": "2024-06-13T15:13:00.183958100Z",
     "start_time": "2024-06-13T15:13:00.178002400Z"
    }
   }
  }
 ],
 "metadata": {
  "kernelspec": {
   "display_name": "Python 3",
   "language": "python",
   "name": "python3"
  },
  "language_info": {
   "codemirror_mode": {
    "name": "ipython",
    "version": 2
   },
   "file_extension": ".py",
   "mimetype": "text/x-python",
   "name": "python",
   "nbconvert_exporter": "python",
   "pygments_lexer": "ipython2",
   "version": "2.7.6"
  }
 },
 "nbformat": 4,
 "nbformat_minor": 0
}
