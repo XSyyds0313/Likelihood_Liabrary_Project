{
 "cells": [
  {
   "cell_type": "code",
   "execution_count": 4,
   "metadata": {
    "collapsed": true,
    "ExecuteTime": {
     "end_time": "2024-06-11T15:08:59.620408300Z",
     "start_time": "2024-06-11T15:08:59.613405200Z"
    }
   },
   "outputs": [],
   "source": [
    "import os\n",
    "import datetime\n",
    "from datetime import datetime, timedelta\n",
    "\n",
    "import numpy as np\n",
    "import pandas as pd\n",
    "\n",
    "import _pickle as cPickle\n",
    "import gzip\n",
    "import dask\n",
    "from dask import compute, delayed\n",
    "import functools\n",
    "import warnings\n",
    "warnings.filterwarnings('ignore')"
   ]
  },
  {
   "cell_type": "code",
   "execution_count": 5,
   "outputs": [],
   "source": [
    "# 根目录HEAD_PATH\n",
    "HEAD_PATH = \"order book data\"\n",
    "# 数据保存根目录\n",
    "SAVE_PATH = \"order book data\"\n",
    "# 样本的目录\n",
    "DATA_PATH_1 = HEAD_PATH + \"/order book tick/\"\n",
    "DATA_PATH_2 = HEAD_PATH + \"/order flow tick/\"\n",
    "TMP_DATA_PATH = HEAD_PATH + \"/tmp pkl/\"\n",
    "DEBUG_DATA_PATH = HEAD_PATH + \"/tmp debug/\""
   ],
   "metadata": {
    "collapsed": false,
    "ExecuteTime": {
     "end_time": "2024-06-11T15:09:00.804622400Z",
     "start_time": "2024-06-11T15:09:00.798620Z"
    }
   }
  },
  {
   "cell_type": "code",
   "execution_count": 6,
   "outputs": [],
   "source": [
    "def load(path):\n",
    "    with gzip.open(path, 'rb', compresslevel=1) as file_object:\n",
    "        raw_data = file_object.read()\n",
    "    return cPickle.loads(raw_data)\n",
    "\n",
    "def save(data, path):\n",
    "    serialized = cPickle.dumps(data)\n",
    "    with gzip.open(path, 'wb', compresslevel=1) as file_object:\n",
    "        file_object.write(serialized)\n",
    "\n",
    "def parLapply(CORE_NUM, iterable, func, *args, **kwargs):\n",
    "    with dask.config.set(scheduler='processes', num_workers=CORE_NUM):\n",
    "        f_par = functools.partial(func, *args, **kwargs)\n",
    "        result = compute([delayed(f_par)(item) for item in iterable])[0]\n",
    "        return result"
   ],
   "metadata": {
    "collapsed": false,
    "ExecuteTime": {
     "end_time": "2024-06-11T15:09:02.346274200Z",
     "start_time": "2024-06-11T15:09:02.327184300Z"
    }
   }
  },
  {
   "cell_type": "code",
   "execution_count": 9,
   "outputs": [],
   "source": [
    "CORE_NUM = int(os.environ['NUMBER_OF_PROCESSORS'])\n",
    "product_list = ['cu', 'zn', 'ni', 'au', 'ag']\n",
    "def construct_debug_data(date_pkl, product):\n",
    "    data = load(TMP_DATA_PATH+product+'/'+date_pkl)\n",
    "    data = data.iloc[:500, :]\n",
    "    save(data, DEBUG_DATA_PATH+product+'/'+date_pkl)\n",
    "\n",
    "for product in product_list:\n",
    "    print(product)\n",
    "    if not os.path.exists(DEBUG_DATA_PATH+product):\n",
    "        os.makedirs(DEBUG_DATA_PATH+product)\n",
    "    all_dates = np.array(os.listdir(TMP_DATA_PATH + product))\n",
    "    parLapply(CORE_NUM, all_dates, construct_debug_data, product=product)"
   ],
   "metadata": {
    "collapsed": false,
    "ExecuteTime": {
     "end_time": "2024-06-11T15:12:24.305545800Z",
     "start_time": "2024-06-11T15:12:03.750805600Z"
    }
   }
  },
  {
   "cell_type": "code",
   "execution_count": 11,
   "outputs": [
    {
     "data": {
      "text/plain": "                                      TimeStamp  BidPrice1  BidVolume1  \\\nTimeStamp                                                                \n2022-01-04 08:59:00.500 2022-01-04 08:59:00.500    70500.0          15   \n2022-01-04 09:00:00.500 2022-01-04 09:00:00.500    70460.0          17   \n2022-01-04 09:00:01.000 2022-01-04 09:00:01.000    70450.0           2   \n2022-01-04 09:00:01.500 2022-01-04 09:00:01.500    70430.0           1   \n2022-01-04 09:00:02.000 2022-01-04 09:00:02.000    70400.0           7   \n...                                         ...        ...         ...   \n2022-01-04 09:04:07.500 2022-01-04 09:04:07.500    70090.0           6   \n2022-01-04 09:04:08.000 2022-01-04 09:04:08.000    70090.0           3   \n2022-01-04 09:04:08.500 2022-01-04 09:04:08.500    70080.0          26   \n2022-01-04 09:04:09.000 2022-01-04 09:04:09.000    70080.0          20   \n2022-01-04 09:04:09.500 2022-01-04 09:04:09.500    70080.0          15   \n\n                         AskPrice1  AskVolume1  BidPrice2  BidVolume2  \\\nTimeStamp                                                               \n2022-01-04 08:59:00.500    70550.0        46.0    70490.0           3   \n2022-01-04 09:00:00.500    70490.0         9.0    70450.0          12   \n2022-01-04 09:00:01.000    70460.0        17.0    70440.0           7   \n2022-01-04 09:00:01.500    70440.0         1.0    70420.0          10   \n2022-01-04 09:00:02.000    70430.0         5.0    70390.0           1   \n...                            ...         ...        ...         ...   \n2022-01-04 09:04:07.500    70100.0        10.0    70080.0          34   \n2022-01-04 09:04:08.000    70100.0        11.0    70080.0          26   \n2022-01-04 09:04:08.500    70100.0        14.0    70070.0          23   \n2022-01-04 09:04:09.000    70090.0         2.0    70070.0          23   \n2022-01-04 09:04:09.500    70090.0         7.0    70070.0          23   \n\n                         AskPrice2  AskVolume2  BidPrice3  ...  BidPrice5  \\\nTimeStamp                                                  ...              \n2022-01-04 08:59:00.500    70570.0       104.0    70460.0  ...    70440.0   \n2022-01-04 09:00:00.500    70500.0        51.0    70440.0  ...    70420.0   \n2022-01-04 09:00:01.000    70480.0         3.0    70430.0  ...    70410.0   \n2022-01-04 09:00:01.500    70450.0        20.0    70410.0  ...    70370.0   \n2022-01-04 09:00:02.000    70440.0         5.0    70370.0  ...    70330.0   \n...                            ...         ...        ...  ...        ...   \n2022-01-04 09:04:07.500    70110.0        16.0    70070.0  ...    70050.0   \n2022-01-04 09:04:08.000    70110.0        16.0    70070.0  ...    70050.0   \n2022-01-04 09:04:08.500    70110.0        16.0    70060.0  ...    70040.0   \n2022-01-04 09:04:09.000    70100.0        14.0    70060.0  ...    70040.0   \n2022-01-04 09:04:09.500    70100.0        13.0    70060.0  ...    70040.0   \n\n                         BidVolume5  AskPrice5  AskVolume5  weight_price  \\\nTimeStamp                                                                  \n2022-01-04 08:59:00.500           5    70630.0        10.0  70512.295082   \n2022-01-04 09:00:00.500          10    70540.0        18.0  70479.615385   \n2022-01-04 09:00:01.000          25    70510.0         8.0  70451.052632   \n2022-01-04 09:00:01.500           2    70490.0        34.0  70435.000000   \n2022-01-04 09:00:02.000           2    70480.0         3.0  70417.500000   \n...                             ...        ...         ...           ...   \n2022-01-04 09:04:07.500          21    70140.0        10.0  70093.750000   \n2022-01-04 09:04:08.000          21    70140.0        10.0  70092.142857   \n2022-01-04 09:04:08.500          25    70140.0        10.0  70093.000000   \n2022-01-04 09:04:09.000          25    70130.0        10.0  70089.090909   \n2022-01-04 09:04:09.500          25    70130.0        10.0  70086.818182   \n\n                         difference_of_price         m_neg         m_pos  \\\nTimeStamp                                                                  \n2022-01-04 08:59:00.500             0.000000  70512.295082  70318.508702   \n2022-01-04 09:00:00.500           -32.679697  70495.955233  70313.720451   \n2022-01-04 09:00:01.000           -61.242450  70480.987699  70309.481247   \n2022-01-04 09:00:01.500           -77.295082  70469.490775  70305.416828   \n2022-01-04 09:00:02.000           -94.795082  70459.092620  70301.654008   \n...                                      ...           ...           ...   \n2022-01-04 09:04:07.500            17.750000  70081.851008  70057.589809   \n2022-01-04 09:04:08.000            24.142857  70082.120056  70056.842124   \n2022-01-04 09:04:08.500            15.000000  70082.536722  70056.134534   \n2022-01-04 09:04:09.000             8.564593  70082.721571  70055.507611   \n2022-01-04 09:04:09.500             8.246753  70082.826435  70054.920199   \n\n                              ret  classify  \nTimeStamp                                    \n2022-01-04 08:59:00.500 -0.002748        -1  \n2022-01-04 09:00:00.500 -0.002585        -1  \n2022-01-04 09:00:01.000 -0.002433        -1  \n2022-01-04 09:00:01.500 -0.002328        -1  \n2022-01-04 09:00:02.000 -0.002234        -1  \n...                           ...       ...  \n2022-01-04 09:04:07.500 -0.000346        -1  \n2022-01-04 09:04:08.000 -0.000361        -1  \n2022-01-04 09:04:08.500 -0.000377        -1  \n2022-01-04 09:04:09.000 -0.000388        -1  \n2022-01-04 09:04:09.500 -0.000398        -1  \n\n[500 rows x 27 columns]",
      "text/html": "<div>\n<style scoped>\n    .dataframe tbody tr th:only-of-type {\n        vertical-align: middle;\n    }\n\n    .dataframe tbody tr th {\n        vertical-align: top;\n    }\n\n    .dataframe thead th {\n        text-align: right;\n    }\n</style>\n<table border=\"1\" class=\"dataframe\">\n  <thead>\n    <tr style=\"text-align: right;\">\n      <th></th>\n      <th>TimeStamp</th>\n      <th>BidPrice1</th>\n      <th>BidVolume1</th>\n      <th>AskPrice1</th>\n      <th>AskVolume1</th>\n      <th>BidPrice2</th>\n      <th>BidVolume2</th>\n      <th>AskPrice2</th>\n      <th>AskVolume2</th>\n      <th>BidPrice3</th>\n      <th>...</th>\n      <th>BidPrice5</th>\n      <th>BidVolume5</th>\n      <th>AskPrice5</th>\n      <th>AskVolume5</th>\n      <th>weight_price</th>\n      <th>difference_of_price</th>\n      <th>m_neg</th>\n      <th>m_pos</th>\n      <th>ret</th>\n      <th>classify</th>\n    </tr>\n    <tr>\n      <th>TimeStamp</th>\n      <th></th>\n      <th></th>\n      <th></th>\n      <th></th>\n      <th></th>\n      <th></th>\n      <th></th>\n      <th></th>\n      <th></th>\n      <th></th>\n      <th></th>\n      <th></th>\n      <th></th>\n      <th></th>\n      <th></th>\n      <th></th>\n      <th></th>\n      <th></th>\n      <th></th>\n      <th></th>\n      <th></th>\n    </tr>\n  </thead>\n  <tbody>\n    <tr>\n      <th>2022-01-04 08:59:00.500</th>\n      <td>2022-01-04 08:59:00.500</td>\n      <td>70500.0</td>\n      <td>15</td>\n      <td>70550.0</td>\n      <td>46.0</td>\n      <td>70490.0</td>\n      <td>3</td>\n      <td>70570.0</td>\n      <td>104.0</td>\n      <td>70460.0</td>\n      <td>...</td>\n      <td>70440.0</td>\n      <td>5</td>\n      <td>70630.0</td>\n      <td>10.0</td>\n      <td>70512.295082</td>\n      <td>0.000000</td>\n      <td>70512.295082</td>\n      <td>70318.508702</td>\n      <td>-0.002748</td>\n      <td>-1</td>\n    </tr>\n    <tr>\n      <th>2022-01-04 09:00:00.500</th>\n      <td>2022-01-04 09:00:00.500</td>\n      <td>70460.0</td>\n      <td>17</td>\n      <td>70490.0</td>\n      <td>9.0</td>\n      <td>70450.0</td>\n      <td>12</td>\n      <td>70500.0</td>\n      <td>51.0</td>\n      <td>70440.0</td>\n      <td>...</td>\n      <td>70420.0</td>\n      <td>10</td>\n      <td>70540.0</td>\n      <td>18.0</td>\n      <td>70479.615385</td>\n      <td>-32.679697</td>\n      <td>70495.955233</td>\n      <td>70313.720451</td>\n      <td>-0.002585</td>\n      <td>-1</td>\n    </tr>\n    <tr>\n      <th>2022-01-04 09:00:01.000</th>\n      <td>2022-01-04 09:00:01.000</td>\n      <td>70450.0</td>\n      <td>2</td>\n      <td>70460.0</td>\n      <td>17.0</td>\n      <td>70440.0</td>\n      <td>7</td>\n      <td>70480.0</td>\n      <td>3.0</td>\n      <td>70430.0</td>\n      <td>...</td>\n      <td>70410.0</td>\n      <td>25</td>\n      <td>70510.0</td>\n      <td>8.0</td>\n      <td>70451.052632</td>\n      <td>-61.242450</td>\n      <td>70480.987699</td>\n      <td>70309.481247</td>\n      <td>-0.002433</td>\n      <td>-1</td>\n    </tr>\n    <tr>\n      <th>2022-01-04 09:00:01.500</th>\n      <td>2022-01-04 09:00:01.500</td>\n      <td>70430.0</td>\n      <td>1</td>\n      <td>70440.0</td>\n      <td>1.0</td>\n      <td>70420.0</td>\n      <td>10</td>\n      <td>70450.0</td>\n      <td>20.0</td>\n      <td>70410.0</td>\n      <td>...</td>\n      <td>70370.0</td>\n      <td>2</td>\n      <td>70490.0</td>\n      <td>34.0</td>\n      <td>70435.000000</td>\n      <td>-77.295082</td>\n      <td>70469.490775</td>\n      <td>70305.416828</td>\n      <td>-0.002328</td>\n      <td>-1</td>\n    </tr>\n    <tr>\n      <th>2022-01-04 09:00:02.000</th>\n      <td>2022-01-04 09:00:02.000</td>\n      <td>70400.0</td>\n      <td>7</td>\n      <td>70430.0</td>\n      <td>5.0</td>\n      <td>70390.0</td>\n      <td>1</td>\n      <td>70440.0</td>\n      <td>5.0</td>\n      <td>70370.0</td>\n      <td>...</td>\n      <td>70330.0</td>\n      <td>2</td>\n      <td>70480.0</td>\n      <td>3.0</td>\n      <td>70417.500000</td>\n      <td>-94.795082</td>\n      <td>70459.092620</td>\n      <td>70301.654008</td>\n      <td>-0.002234</td>\n      <td>-1</td>\n    </tr>\n    <tr>\n      <th>...</th>\n      <td>...</td>\n      <td>...</td>\n      <td>...</td>\n      <td>...</td>\n      <td>...</td>\n      <td>...</td>\n      <td>...</td>\n      <td>...</td>\n      <td>...</td>\n      <td>...</td>\n      <td>...</td>\n      <td>...</td>\n      <td>...</td>\n      <td>...</td>\n      <td>...</td>\n      <td>...</td>\n      <td>...</td>\n      <td>...</td>\n      <td>...</td>\n      <td>...</td>\n      <td>...</td>\n    </tr>\n    <tr>\n      <th>2022-01-04 09:04:07.500</th>\n      <td>2022-01-04 09:04:07.500</td>\n      <td>70090.0</td>\n      <td>6</td>\n      <td>70100.0</td>\n      <td>10.0</td>\n      <td>70080.0</td>\n      <td>34</td>\n      <td>70110.0</td>\n      <td>16.0</td>\n      <td>70070.0</td>\n      <td>...</td>\n      <td>70050.0</td>\n      <td>21</td>\n      <td>70140.0</td>\n      <td>10.0</td>\n      <td>70093.750000</td>\n      <td>17.750000</td>\n      <td>70081.851008</td>\n      <td>70057.589809</td>\n      <td>-0.000346</td>\n      <td>-1</td>\n    </tr>\n    <tr>\n      <th>2022-01-04 09:04:08.000</th>\n      <td>2022-01-04 09:04:08.000</td>\n      <td>70090.0</td>\n      <td>3</td>\n      <td>70100.0</td>\n      <td>11.0</td>\n      <td>70080.0</td>\n      <td>26</td>\n      <td>70110.0</td>\n      <td>16.0</td>\n      <td>70070.0</td>\n      <td>...</td>\n      <td>70050.0</td>\n      <td>21</td>\n      <td>70140.0</td>\n      <td>10.0</td>\n      <td>70092.142857</td>\n      <td>24.142857</td>\n      <td>70082.120056</td>\n      <td>70056.842124</td>\n      <td>-0.000361</td>\n      <td>-1</td>\n    </tr>\n    <tr>\n      <th>2022-01-04 09:04:08.500</th>\n      <td>2022-01-04 09:04:08.500</td>\n      <td>70080.0</td>\n      <td>26</td>\n      <td>70100.0</td>\n      <td>14.0</td>\n      <td>70070.0</td>\n      <td>23</td>\n      <td>70110.0</td>\n      <td>16.0</td>\n      <td>70060.0</td>\n      <td>...</td>\n      <td>70040.0</td>\n      <td>25</td>\n      <td>70140.0</td>\n      <td>10.0</td>\n      <td>70093.000000</td>\n      <td>15.000000</td>\n      <td>70082.536722</td>\n      <td>70056.134534</td>\n      <td>-0.000377</td>\n      <td>-1</td>\n    </tr>\n    <tr>\n      <th>2022-01-04 09:04:09.000</th>\n      <td>2022-01-04 09:04:09.000</td>\n      <td>70080.0</td>\n      <td>20</td>\n      <td>70090.0</td>\n      <td>2.0</td>\n      <td>70070.0</td>\n      <td>23</td>\n      <td>70100.0</td>\n      <td>14.0</td>\n      <td>70060.0</td>\n      <td>...</td>\n      <td>70040.0</td>\n      <td>25</td>\n      <td>70130.0</td>\n      <td>10.0</td>\n      <td>70089.090909</td>\n      <td>8.564593</td>\n      <td>70082.721571</td>\n      <td>70055.507611</td>\n      <td>-0.000388</td>\n      <td>-1</td>\n    </tr>\n    <tr>\n      <th>2022-01-04 09:04:09.500</th>\n      <td>2022-01-04 09:04:09.500</td>\n      <td>70080.0</td>\n      <td>15</td>\n      <td>70090.0</td>\n      <td>7.0</td>\n      <td>70070.0</td>\n      <td>23</td>\n      <td>70100.0</td>\n      <td>13.0</td>\n      <td>70060.0</td>\n      <td>...</td>\n      <td>70040.0</td>\n      <td>25</td>\n      <td>70130.0</td>\n      <td>10.0</td>\n      <td>70086.818182</td>\n      <td>8.246753</td>\n      <td>70082.826435</td>\n      <td>70054.920199</td>\n      <td>-0.000398</td>\n      <td>-1</td>\n    </tr>\n  </tbody>\n</table>\n<p>500 rows × 27 columns</p>\n</div>"
     },
     "execution_count": 11,
     "metadata": {},
     "output_type": "execute_result"
    }
   ],
   "source": [
    "load(DEBUG_DATA_PATH+'cu/'+'20220104.pkl')"
   ],
   "metadata": {
    "collapsed": false,
    "ExecuteTime": {
     "end_time": "2024-06-11T15:13:23.593761900Z",
     "start_time": "2024-06-11T15:13:23.514012600Z"
    }
   }
  }
 ],
 "metadata": {
  "kernelspec": {
   "display_name": "Python 3",
   "language": "python",
   "name": "python3"
  },
  "language_info": {
   "codemirror_mode": {
    "name": "ipython",
    "version": 2
   },
   "file_extension": ".py",
   "mimetype": "text/x-python",
   "name": "python",
   "nbconvert_exporter": "python",
   "pygments_lexer": "ipython2",
   "version": "2.7.6"
  }
 },
 "nbformat": 4,
 "nbformat_minor": 0
}
